{
 "cells": [
  {
   "cell_type": "code",
   "execution_count": 2,
   "id": "a3d5c705",
   "metadata": {},
   "outputs": [
    {
     "data": {
      "application/vnd.microsoft.datawrangler.viewer.v0+json": {
       "columns": [
        {
         "name": "index",
         "rawType": "int64",
         "type": "integer"
        },
        {
         "name": "experiment    ",
         "rawType": "object",
         "type": "string"
        },
        {
         "name": " body_bone_length_mae  ",
         "rawType": "float64",
         "type": "float"
        },
        {
         "name": " masked_l1          ",
         "rawType": "float64",
         "type": "float"
        },
        {
         "name": " masked_mse            ",
         "rawType": "float64",
         "type": "float"
        },
        {
         "name": " velocity_mse",
         "rawType": "float64",
         "type": "float"
        }
       ],
       "ref": "a43312c4-3b89-497b-97cd-a6249b5049e3",
       "rows": [
        [
         "0",
         "v0_epoch100   ",
         "0.0001079214816504",
         "0.01545456331671",
         "0.0018100771984301",
         "0.0002457694212388"
        ],
        [
         "1",
         "v1_epoch100   ",
         "8.639878833841627e-05",
         "0.0083950425010138",
         "0.0003792618312427",
         "0.0001445139987131"
        ],
        [
         "2",
         "v2_epoch100   ",
         "5.582906194726652e-05",
         "0.0083958758645726",
         "0.0005001191864441",
         "0.0001461380250545"
        ],
        [
         "3",
         "v3-wo-retarget",
         "7.428006039425291e-05",
         "0.0276798473474068",
         "0.0035872728974656",
         "0.0006033724309348"
        ],
        [
         "4",
         "v3_epoch100   ",
         "2.9924771205549823e-05",
         "0.0070286923000821",
         "0.0003883414229816",
         "0.0001201751045108"
        ],
        [
         "5",
         "v4_epoch100   ",
         "3.2266162065752724e-05",
         "0.0072117289102887",
         "0.0003324057817665",
         "0.0001025324650946"
        ],
        [
         "6",
         "v5_epoch100   ",
         "0.0169746312850083",
         "0.1006093808593085",
         "0.0189067725933944",
         "0.0018932873348463"
        ]
       ],
       "shape": {
        "columns": 5,
        "rows": 7
       }
      },
      "text/html": [
       "<div>\n",
       "<style scoped>\n",
       "    .dataframe tbody tr th:only-of-type {\n",
       "        vertical-align: middle;\n",
       "    }\n",
       "\n",
       "    .dataframe tbody tr th {\n",
       "        vertical-align: top;\n",
       "    }\n",
       "\n",
       "    .dataframe thead th {\n",
       "        text-align: right;\n",
       "    }\n",
       "</style>\n",
       "<table border=\"1\" class=\"dataframe\">\n",
       "  <thead>\n",
       "    <tr style=\"text-align: right;\">\n",
       "      <th></th>\n",
       "      <th>experiment</th>\n",
       "      <th>body_bone_length_mae</th>\n",
       "      <th>masked_l1</th>\n",
       "      <th>masked_mse</th>\n",
       "      <th>velocity_mse</th>\n",
       "    </tr>\n",
       "  </thead>\n",
       "  <tbody>\n",
       "    <tr>\n",
       "      <th>0</th>\n",
       "      <td>v0_epoch100</td>\n",
       "      <td>0.000108</td>\n",
       "      <td>0.015455</td>\n",
       "      <td>0.001810</td>\n",
       "      <td>0.000246</td>\n",
       "    </tr>\n",
       "    <tr>\n",
       "      <th>1</th>\n",
       "      <td>v1_epoch100</td>\n",
       "      <td>0.000086</td>\n",
       "      <td>0.008395</td>\n",
       "      <td>0.000379</td>\n",
       "      <td>0.000145</td>\n",
       "    </tr>\n",
       "    <tr>\n",
       "      <th>2</th>\n",
       "      <td>v2_epoch100</td>\n",
       "      <td>0.000056</td>\n",
       "      <td>0.008396</td>\n",
       "      <td>0.000500</td>\n",
       "      <td>0.000146</td>\n",
       "    </tr>\n",
       "    <tr>\n",
       "      <th>3</th>\n",
       "      <td>v3-wo-retarget</td>\n",
       "      <td>0.000074</td>\n",
       "      <td>0.027680</td>\n",
       "      <td>0.003587</td>\n",
       "      <td>0.000603</td>\n",
       "    </tr>\n",
       "    <tr>\n",
       "      <th>4</th>\n",
       "      <td>v3_epoch100</td>\n",
       "      <td>0.000030</td>\n",
       "      <td>0.007029</td>\n",
       "      <td>0.000388</td>\n",
       "      <td>0.000120</td>\n",
       "    </tr>\n",
       "    <tr>\n",
       "      <th>5</th>\n",
       "      <td>v4_epoch100</td>\n",
       "      <td>0.000032</td>\n",
       "      <td>0.007212</td>\n",
       "      <td>0.000332</td>\n",
       "      <td>0.000103</td>\n",
       "    </tr>\n",
       "    <tr>\n",
       "      <th>6</th>\n",
       "      <td>v5_epoch100</td>\n",
       "      <td>0.016975</td>\n",
       "      <td>0.100609</td>\n",
       "      <td>0.018907</td>\n",
       "      <td>0.001893</td>\n",
       "    </tr>\n",
       "  </tbody>\n",
       "</table>\n",
       "</div>"
      ],
      "text/plain": [
       "   experiment       body_bone_length_mae     masked_l1            \\\n",
       "0  v0_epoch100                    0.000108              0.015455   \n",
       "1  v1_epoch100                    0.000086              0.008395   \n",
       "2  v2_epoch100                    0.000056              0.008396   \n",
       "3  v3-wo-retarget                 0.000074              0.027680   \n",
       "4  v3_epoch100                    0.000030              0.007029   \n",
       "5  v4_epoch100                    0.000032              0.007212   \n",
       "6  v5_epoch100                    0.016975              0.100609   \n",
       "\n",
       "    masked_mse               velocity_mse  \n",
       "0                 0.001810       0.000246  \n",
       "1                 0.000379       0.000145  \n",
       "2                 0.000500       0.000146  \n",
       "3                 0.003587       0.000603  \n",
       "4                 0.000388       0.000120  \n",
       "5                 0.000332       0.000103  \n",
       "6                 0.018907       0.001893  "
      ]
     },
     "execution_count": 2,
     "metadata": {},
     "output_type": "execute_result"
    }
   ],
   "source": [
    "import pandas as pd\n",
    "\n",
    "df = pd.read_csv('../output/metrics/metrics_summary.csv')\n",
    "df"
   ]
  }
 ],
 "metadata": {
  "kernelspec": {
   "display_name": "net",
   "language": "python",
   "name": "python3"
  },
  "language_info": {
   "codemirror_mode": {
    "name": "ipython",
    "version": 3
   },
   "file_extension": ".py",
   "mimetype": "text/x-python",
   "name": "python",
   "nbconvert_exporter": "python",
   "pygments_lexer": "ipython3",
   "version": "3.9.21"
  }
 },
 "nbformat": 4,
 "nbformat_minor": 5
}
